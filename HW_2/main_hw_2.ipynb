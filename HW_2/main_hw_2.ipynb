{
  "nbformat": 4,
  "nbformat_minor": 0,
  "metadata": {
    "colab": {
      "provenance": []
    },
    "kernelspec": {
      "name": "python3",
      "display_name": "Python 3"
    },
    "language_info": {
      "name": "python"
    }
  },
  "cells": [
    {
      "cell_type": "markdown",
      "source": [
        "Данные финансового рынка на основе ИИ"
      ],
      "metadata": {
        "id": "WRN_kmN5kwti"
      }
    },
    {
      "cell_type": "code",
      "source": [
        "import pandas as pd\n",
        "from data_loader import DataLoader\n",
        "from data_processing import DataProcessor\n",
        "from data_visualization import DataVisualizer\n",
        "\n",
        "\n",
        "def main():\n",
        "    # Загрузка данных\n",
        "    loader = DataLoader()\n",
        "    df = loader.load_csv(\"D:\\\\Data Science_1\\\\DS_examples\\\\HW_2\\\\financial_market_daily.csv\")\n",
        "\n",
        "    # Проверка что данные загружены\n",
        "    df.describe()\n",
        "    print(\"Размер данных:\", df.shape)\n",
        "    print(\"Колонки:\", df.columns.tolist())\n",
        "    print(df.head())\n",
        "\n",
        "\n",
        "    # Проверка пропущенных значений\n",
        "    processor = DataProcessor()\n",
        "    missing_report = processor.generate_missing_values_report(df)\n",
        "    print(\"Отчет по пропущенным значениям:\")\n",
        "    print(missing_report)\n",
        "\n",
        "    # # Заполнение пропусков конкретным значением\n",
        "    df_filled = processor.fill_missing_values(df, strategy=\"ffill\")       # fillna: заполнение конкретным значением\n",
        "\n",
        "    # Визуализация данных\n",
        "    df['Date'] = pd.to_datetime(df['Date'])                               # Преобразование 'Date' в формат даты\n",
        "\n",
        "    visualizer = DataVisualizer()\n",
        "\n",
        "    # Линейный график: Тренд выручки с течением времени\n",
        "    visualizer.add_line_plot(\n",
        "        name=\"Revenue_Trend\",\n",
        "        df=df,\n",
        "        x_column=\"Date\",\n",
        "        y_column=\"AI_Revenue_USD_Mn\"\n",
        "    )\n",
        "\n",
        "    # Диаграмма рассеяния: Влияние затрат на R&D на выручку от ИИ\n",
        "    visualizer.add_scatter_plot(\n",
        "        name=\"RnD_vs_Revenue\",\n",
        "        df=df,\n",
        "        x_column=\"R&D_Spending_USD_Mn\",\n",
        "        y_column=\"AI_Revenue_USD_Mn\"\n",
        "    )\n",
        "\n",
        "    #  Гистограмма: Распределение темпов роста\n",
        "    visualizer.add_histogram(\n",
        "        name=\"Growth_Distribution\",\n",
        "        df=df,\n",
        "        column=\"AI_Revenue_Growth_%\"\n",
        "    )\n",
        "\n",
        "    # Отображение графиков\n",
        "    visualizer.show_visualization(\"Revenue_Trend\")\n",
        "    visualizer.show_visualization(\"RnD_vs_Revenue\")\n",
        "    visualizer.show_visualization(\"Growth_Distribution\")\n",
        "\n",
        "    #  Демонстрация удаления (график не будет показан, если его удалить)\n",
        "    # visualizer.remove_visualization(\"Revenue_Trend\")\n",
        "    # print(\"График 'Revenue_Trend' удален из контейнера.\")\n",
        "\n",
        "\n",
        "if __name__ == \"__main__\":\n",
        "    main()"
      ],
      "metadata": {
        "id": "jKuCodO-lqhD"
      },
      "execution_count": null,
      "outputs": []
    }
  ]
}