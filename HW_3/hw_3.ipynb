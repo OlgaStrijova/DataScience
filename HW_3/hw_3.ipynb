{
  "nbformat": 4,
  "nbformat_minor": 0,
  "metadata": {
    "colab": {
      "provenance": []
    },
    "kernelspec": {
      "name": "python3",
      "display_name": "Python 3"
    },
    "language_info": {
      "name": "python"
    }
  },
  "cells": [
    {
      "cell_type": "markdown",
      "source": [
        "##Домашняя работа №3"
      ],
      "metadata": {
        "id": "v9HQ9zSliniB"
      }
    },
    {
      "cell_type": "markdown",
      "source": [
        "Создание БД"
      ],
      "metadata": {
        "id": "bKAgkntSivDE"
      }
    },
    {
      "cell_type": "code",
      "source": [
        "import psycopg2\n",
        "import pandas as pd\n",
        "import seaborn as sns\n",
        "import matplotlib.pyplot as plt\n",
        "\n",
        "\n",
        "# Подключение к БД postgres\n",
        "conn = psycopg2.connect(\n",
        "    dbname=\"postgres\",\n",
        "    user=\"olga\",       # логин\n",
        "    password=\"olga\",   # пароль\n",
        "    host=\"localhost\",\n",
        "    port=\"5433\"\n",
        ")\n",
        "conn.autocommit = True\n",
        "cursor = conn.cursor()\n",
        "\n",
        "# Создаем новую базу данных\n",
        "cursor.execute(\"DROP DATABASE IF EXISTS ds_db;\")\n",
        "cursor.execute(\"CREATE DATABASE ds_db;\")\n",
        "cursor.close()\n",
        "conn.close()\n",
        "print (\"База данных успешно создана\")\n",
        "\n",
        "# Подключение к созданной БД\n",
        "conn = psycopg2.connect(\n",
        "    dbname=\"ds_db\",    # имя созданной базы\n",
        "    user=\"olga\",       # логин\n",
        "    password=\"olga\",   # пароль\n",
        "    host=\"localhost\",\n",
        "    port=\"5433\"\n",
        ")\n",
        "cursor = conn.cursor()\n",
        "\n",
        "# Создание схемы\n",
        "cursor.execute(\"CREATE SCHEMA IF NOT EXISTS ds_hw3;\")\n",
        "conn.commit()\n",
        "\n",
        "# Создание таблицы\n",
        "cursor.execute(\"\"\"\n",
        "CREATE TABLE IF NOT EXISTS ds_hw3.loans (\n",
        "    Loan_ID text null,\n",
        "    Gender TEXT null,\n",
        "    Married TEXT null,\n",
        "    Dependents TEXT null,\n",
        "    Education TEXT null,\n",
        "    Self_Employed  TEXT null,\n",
        "    ApplicantIncome NUMERIC null,\n",
        "    CoapplicantIncome NUMERIC null,\n",
        "    LoanAmount NUMERIC null,\n",
        "    Loan_Amount_Term NUMERIC null,\n",
        "    Credit_History NUMERIC null,\n",
        "    Property_Area text  null\n",
        ");\n",
        "\"\"\")\n",
        "conn.commit()\n",
        "print (\"Таблица успешно создана\")\n",
        "\n",
        "\n",
        "# Загружаем CSV\n",
        "# df = pd.read_csv(\"loan-test.csv\")\n",
        "df = pd.read_csv(\"loan-test.csv\", na_values=[\"\", \"NULL\"])\n",
        "\n",
        "# Преобразуем NaN в None, чтобы psycopg2 корректно передал NULL в PostgreSQL\n",
        "df = df.where(pd.notnull(df), None)\n",
        "\n",
        "# Записываем в PostgreSQL\n",
        "for _, row in df.iterrows():\n",
        "    cursor.execute(\"\"\"\n",
        "        INSERT INTO ds_hw3.loans (\n",
        "            Loan_ID, Gender, Married, Dependents, Education, Self_Employed,\n",
        "            ApplicantIncome, CoapplicantIncome, LoanAmount,\n",
        "            Loan_Amount_Term, Credit_History, Property_Area\n",
        "        )\n",
        "        VALUES (%s, %s, %s, %s, %s, %s, %s, %s, %s, %s, %s, %s);\n",
        "    \"\"\", tuple(row))\n",
        "conn.commit()\n",
        "print (\"Данные записаны в PostgreSQL\")"
      ],
      "metadata": {
        "colab": {
          "base_uri": "https://localhost:8080/",
          "height": 384
        },
        "id": "o65ZCLipi7Xl",
        "outputId": "ce391d95-7f66-40e9-a8d5-e0b7e03868b5"
      },
      "execution_count": 1,
      "outputs": [
        {
          "output_type": "error",
          "ename": "OperationalError",
          "evalue": "connection to server at \"localhost\" (127.0.0.1), port 5433 failed: Connection refused\n\tIs the server running on that host and accepting TCP/IP connections?\nconnection to server at \"localhost\" (::1), port 5433 failed: Cannot assign requested address\n\tIs the server running on that host and accepting TCP/IP connections?\n",
          "traceback": [
            "\u001b[0;31m---------------------------------------------------------------------------\u001b[0m",
            "\u001b[0;31mOperationalError\u001b[0m                          Traceback (most recent call last)",
            "\u001b[0;32m/tmp/ipython-input-4068282250.py\u001b[0m in \u001b[0;36m<cell line: 0>\u001b[0;34m()\u001b[0m\n\u001b[1;32m      6\u001b[0m \u001b[0;34m\u001b[0m\u001b[0m\n\u001b[1;32m      7\u001b[0m \u001b[0;31m# Подключение к БД postgres\u001b[0m\u001b[0;34m\u001b[0m\u001b[0;34m\u001b[0m\u001b[0m\n\u001b[0;32m----> 8\u001b[0;31m conn = psycopg2.connect(\n\u001b[0m\u001b[1;32m      9\u001b[0m     \u001b[0mdbname\u001b[0m\u001b[0;34m=\u001b[0m\u001b[0;34m\"postgres\"\u001b[0m\u001b[0;34m,\u001b[0m\u001b[0;34m\u001b[0m\u001b[0;34m\u001b[0m\u001b[0m\n\u001b[1;32m     10\u001b[0m     \u001b[0muser\u001b[0m\u001b[0;34m=\u001b[0m\u001b[0;34m\"olga\"\u001b[0m\u001b[0;34m,\u001b[0m       \u001b[0;31m# логин\u001b[0m\u001b[0;34m\u001b[0m\u001b[0;34m\u001b[0m\u001b[0m\n",
            "\u001b[0;32m/usr/local/lib/python3.12/dist-packages/psycopg2/__init__.py\u001b[0m in \u001b[0;36mconnect\u001b[0;34m(dsn, connection_factory, cursor_factory, **kwargs)\u001b[0m\n\u001b[1;32m    120\u001b[0m \u001b[0;34m\u001b[0m\u001b[0m\n\u001b[1;32m    121\u001b[0m     \u001b[0mdsn\u001b[0m \u001b[0;34m=\u001b[0m \u001b[0m_ext\u001b[0m\u001b[0;34m.\u001b[0m\u001b[0mmake_dsn\u001b[0m\u001b[0;34m(\u001b[0m\u001b[0mdsn\u001b[0m\u001b[0;34m,\u001b[0m \u001b[0;34m**\u001b[0m\u001b[0mkwargs\u001b[0m\u001b[0;34m)\u001b[0m\u001b[0;34m\u001b[0m\u001b[0;34m\u001b[0m\u001b[0m\n\u001b[0;32m--> 122\u001b[0;31m     \u001b[0mconn\u001b[0m \u001b[0;34m=\u001b[0m \u001b[0m_connect\u001b[0m\u001b[0;34m(\u001b[0m\u001b[0mdsn\u001b[0m\u001b[0;34m,\u001b[0m \u001b[0mconnection_factory\u001b[0m\u001b[0;34m=\u001b[0m\u001b[0mconnection_factory\u001b[0m\u001b[0;34m,\u001b[0m \u001b[0;34m**\u001b[0m\u001b[0mkwasync\u001b[0m\u001b[0;34m)\u001b[0m\u001b[0;34m\u001b[0m\u001b[0;34m\u001b[0m\u001b[0m\n\u001b[0m\u001b[1;32m    123\u001b[0m     \u001b[0;32mif\u001b[0m \u001b[0mcursor_factory\u001b[0m \u001b[0;32mis\u001b[0m \u001b[0;32mnot\u001b[0m \u001b[0;32mNone\u001b[0m\u001b[0;34m:\u001b[0m\u001b[0;34m\u001b[0m\u001b[0;34m\u001b[0m\u001b[0m\n\u001b[1;32m    124\u001b[0m         \u001b[0mconn\u001b[0m\u001b[0;34m.\u001b[0m\u001b[0mcursor_factory\u001b[0m \u001b[0;34m=\u001b[0m \u001b[0mcursor_factory\u001b[0m\u001b[0;34m\u001b[0m\u001b[0;34m\u001b[0m\u001b[0m\n",
            "\u001b[0;31mOperationalError\u001b[0m: connection to server at \"localhost\" (127.0.0.1), port 5433 failed: Connection refused\n\tIs the server running on that host and accepting TCP/IP connections?\nconnection to server at \"localhost\" (::1), port 5433 failed: Cannot assign requested address\n\tIs the server running on that host and accepting TCP/IP connections?\n"
          ]
        }
      ]
    },
    {
      "cell_type": "markdown",
      "source": [
        "Запросы"
      ],
      "metadata": {
        "id": "GVkdFU55jQ57"
      }
    },
    {
      "cell_type": "code",
      "source": [
        "#  Заявки женатых мужчин\n",
        "cursor.execute(\"\"\"\n",
        "SELECT Loan_ID, ApplicantIncome, LoanAmount\n",
        "FROM ds_hw3.loans\n",
        "WHERE Gender = 'Male' AND Married = 'Yes';\n",
        "\"\"\")\n",
        "print(\"Заявки женатых мужчин:\")\n",
        "print(cursor.fetchall())\n",
        "\n",
        "# Заявки с высоким доходом\n",
        "cursor.execute(\"\"\"\n",
        "SELECT Loan_ID, ApplicantIncome, LoanAmount\n",
        "FROM ds_hw3.loans\n",
        "WHERE ApplicantIncome > 10000;\n",
        "\"\"\")\n",
        "print(\"Заявки с высоким доходом:\")\n",
        "print(cursor.fetchall())\n",
        "\n",
        "\n",
        "# Средний доход\n",
        "cursor.execute(\"SELECT AVG(ApplicantIncome) FROM ds_hw3.loans;\")\n",
        "print(\"Средний доход заявителей:\", cursor.fetchone()[0])\n",
        "\n",
        "# Количество кредитов по регионам\n",
        "cursor.execute(\"\"\"\n",
        "SELECT Property_Area, COUNT(*)\n",
        "FROM ds_hw3.loans\n",
        "GROUP BY Property_Area;\n",
        "\"\"\")\n",
        "print(\"Количество кредитов по регионам:\")\n",
        "print(cursor.fetchall())\n",
        "\n",
        "# Средняя сумма кредита по образованию\n",
        "cursor.execute(\"\"\"\n",
        "SELECT Education, AVG(LoanAmount)\n",
        "FROM ds_hw3.loans\n",
        "GROUP BY Education;\n",
        "\"\"\")\n",
        "print(\"Средняя сумма кредита по образованию:\")\n",
        "print(cursor.fetchall())"
      ],
      "metadata": {
        "id": "P0PZ7yh8jS3A"
      },
      "execution_count": null,
      "outputs": []
    },
    {
      "cell_type": "markdown",
      "source": [
        "Визуализация"
      ],
      "metadata": {
        "id": "oksB9s2KjkSr"
      }
    },
    {
      "cell_type": "code",
      "source": [
        "# Загружаем данные из базы обратно в DataFrame\n",
        "query = \"\"\"SELECT Loan_ID, Gender, Married, Dependents, Education, Self_Employed,\n",
        "            ApplicantIncome, CoapplicantIncome, LoanAmount,\n",
        "            Loan_Amount_Term, Credit_History, Property_Area FROM ds_hw3.loans;\n",
        "        \"\"\"\n",
        "df_db = pd.read_sql(query, conn)\n",
        "\n",
        "# Закрываем подключение, так как данные уже в DataFrame\n",
        "conn.close()\n",
        "\n",
        "# Настройка стиля для графиков\n",
        "sns.set_style(\"whitegrid\")\n",
        "plt.figure(figsize=(16, 6))\n",
        "\n",
        "# Визуализация 1: Распределение суммы кредита по образованию\n",
        "plt.subplot(1, 2, 1)\n",
        "sns.boxplot(x=\"education\", y=\"loanamount\", data=df_db)\n",
        "plt.title(\"Распределение суммы кредита по образованию\")\n",
        "plt.xlabel(\"Образование\")\n",
        "plt.ylabel(\"Сумма кредита (LoanAmount)\")\n",
        "\n",
        "# Визуализация 2: Количество заявок по типу недвижимости\n",
        "plt.subplot(1, 2, 2)\n",
        "sns.countplot(x=\"property_area\", hue=\"married\", data=df_db, palette=\"mako\")\n",
        "plt.title(\"Количество заявок по типу недвижимости и семейному положению\")\n",
        "plt.xlabel(\"Тип недвижимости (Property_Area)\")\n",
        "plt.ylabel(\"Количество заявок\")\n",
        "plt.legend(title=\"Семейное положение\", loc=\"upper right\")\n",
        "plt.tight_layout()\n",
        "plt.show()\n",
        "\n",
        "# Визуализация 3: Гистограмма комбинированного дохода\n",
        "# Создадим новый признак для более глубокого анализа\n",
        "df_db[\"totalincome\"] = df_db[\"applicantincome\"] + df_db[\"coapplicantincome\"]\n",
        "\n",
        "plt.figure(figsize=(8, 5))\n",
        "sns.histplot(df_db[\"totalincome\"], bins=15, kde=True, color=\"indianred\")\n",
        "plt.title(\"Распределение общего дохода заявителей (Applicant + Coapplicant)\")\n",
        "plt.xlabel(\"Общий доход (TotalIncome)\")\n",
        "plt.ylabel(\"Частота\")\n",
        "plt.show()\n",
        "\n",
        "\n",
        "# Визуализация 4: Средняя сумма кредита по регионам\n",
        "print(\"Средняя сумма кредита по регионам\")\n",
        "avg_loan = (\n",
        "    df.groupby(\"Property_Area\")[\"LoanAmount\"]\n",
        "    .mean()\n",
        "    .reset_index()\n",
        ")\n",
        "\n",
        "plt.figure(figsize=(6, 4))\n",
        "sns.barplot(data=avg_loan, x=\"Property_Area\", y=\"LoanAmount\")\n",
        "plt.title(\"Средняя сумма кредита по регионам\")\n",
        "plt.show()\n",
        "\n",
        "# Визуализация 5: Корреляция числовых признаков\n",
        "print(\"Корреляция числовых признаков\")\n",
        "plt.figure(figsize=(8,6))\n",
        "sns.heatmap(df_db.corr(numeric_only=True), annot=True, cmap=\"Blues\")\n",
        "plt.title(\"Корреляция числовых признаков\")\n",
        "plt.show()"
      ],
      "metadata": {
        "id": "Oee4PmF8jnXr"
      },
      "execution_count": null,
      "outputs": []
    }
  ]
}