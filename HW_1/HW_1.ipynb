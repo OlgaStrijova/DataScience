{
  "nbformat": 4,
  "nbformat_minor": 0,
  "metadata": {
    "colab": {
      "provenance": []
    },
    "kernelspec": {
      "name": "python3",
      "display_name": "Python 3"
    },
    "language_info": {
      "name": "python"
    }
  },
  "cells": [
    {
      "cell_type": "markdown",
      "source": [
        "HW_1"
      ],
      "metadata": {
        "id": "e9E7-0dlnL79"
      }
    },
    {
      "cell_type": "markdown",
      "source": [
        "Задача 12.\n",
        "Напишите программу, которая принимает от пользователя два числа и\n",
        "выводит результат их деления с обработкой исключения деления на ноль."
      ],
      "metadata": {
        "id": "nm26Fl46neYq"
      }
    },
    {
      "cell_type": "code",
      "source": [
        "def division():\n",
        "    try:\n",
        "        a = input('Введите 1-e число (делимое):' )\n",
        "        b = input ('Введите 2-е число (делитель):')\n",
        "        a = float(a)\n",
        "        b = float(b)\n",
        "        res = a/b\n",
        "        print(res)\n",
        "    except ValueError:\n",
        "        print(\"Ошибка: введенные данные должны быть числами.\")\n",
        "\n",
        "    except ZeroDivisionError:\n",
        "        print(\"Ошибка: деление на ноль невозможно.\")\n",
        "\n",
        "division()"
      ],
      "metadata": {
        "id": "qvRFyvnXnmN6"
      },
      "execution_count": null,
      "outputs": []
    }
  ]
}